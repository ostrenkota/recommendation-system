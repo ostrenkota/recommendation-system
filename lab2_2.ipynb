{
 "cells": [
  {
   "cell_type": "markdown",
   "metadata": {},
   "source": [
    "# Surprise homework"
   ]
  },
  {
   "cell_type": "code",
   "execution_count": 1,
   "metadata": {},
   "outputs": [],
   "source": [
    "import io\n",
    "from collections import defaultdict\n",
    "import pandas as pd\n",
    "from surprise import Dataset\n",
    "from surprise import SVD\n",
    "from surprise import NormalPredictor\n",
    "from surprise import KNNWithMeans\n",
    "from surprise.model_selection import cross_validate\n",
    "from surprise.model_selection import KFold\n",
    "from surprise.model_selection import train_test_split\n",
    "from operator import itemgetter\n",
    "import pandas as pd"
   ]
  },
  {
   "cell_type": "markdown",
   "metadata": {},
   "source": [
    "### Load data"
   ]
  },
  {
   "cell_type": "code",
   "execution_count": 2,
   "metadata": {},
   "outputs": [],
   "source": [
    "data = Dataset.load_builtin('ml-100k')"
   ]
  },
  {
   "cell_type": "markdown",
   "metadata": {},
   "source": [
    "### Define algorithms"
   ]
  },
  {
   "cell_type": "code",
   "execution_count": 3,
   "metadata": {},
   "outputs": [],
   "source": [
    "algos = {\n",
    "    \"SVD\": SVD(),\n",
    "    \"Base\": NormalPredictor(),\n",
    "    \"KNN_cos\": KNNWithMeans(30, sim_options={'name': 'cosine'}, verbose=False),\n",
    "    \"KNN_msd\": KNNWithMeans(30, sim_options={'name': 'msd'}, verbose=False),\n",
    "    \"KNN_pirs\": KNNWithMeans(30, sim_options={'name': 'pearson_baseline'}, verbose=False)\n",
    "}"
   ]
  },
  {
   "cell_type": "markdown",
   "metadata": {},
   "source": [
    "### Select algorithm"
   ]
  },
  {
   "cell_type": "code",
   "execution_count": 4,
   "metadata": {},
   "outputs": [
    {
     "name": "stdout",
     "output_type": "stream",
     "text": [
      "Evaluating RMSE of algorithm SVD on 5 split(s).\n",
      "\n",
      "                  Fold 1  Fold 2  Fold 3  Fold 4  Fold 5  Mean    Std     \n",
      "RMSE (testset)    0.9383  0.9366  0.9351  0.9271  0.9418  0.9358  0.0049  \n",
      "Fit time          5.19    5.66    5.07    5.21    5.15    5.26    0.21    \n",
      "Test time         0.19    0.16    0.19    0.20    0.27    0.20    0.03    \n",
      "Evaluating RMSE of algorithm NormalPredictor on 5 split(s).\n",
      "\n",
      "                  Fold 1  Fold 2  Fold 3  Fold 4  Fold 5  Mean    Std     \n",
      "RMSE (testset)    1.5221  1.5158  1.5316  1.5184  1.5151  1.5206  0.0060  \n",
      "Fit time          0.15    0.15    0.15    0.15    0.16    0.15    0.00    \n",
      "Test time         0.16    0.21    0.21    0.15    0.15    0.18    0.03    \n",
      "Evaluating RMSE of algorithm KNNWithMeans on 5 split(s).\n",
      "\n",
      "                  Fold 1  Fold 2  Fold 3  Fold 4  Fold 5  Mean    Std     \n",
      "RMSE (testset)    0.9524  0.9617  0.9607  0.9589  0.9559  0.9579  0.0034  \n",
      "Fit time          1.25    1.38    1.14    1.04    1.08    1.18    0.12    \n",
      "Test time         4.70    3.88    3.48    3.49    3.53    3.82    0.47    \n",
      "Evaluating RMSE of algorithm KNNWithMeans on 5 split(s).\n",
      "\n",
      "                  Fold 1  Fold 2  Fold 3  Fold 4  Fold 5  Mean    Std     \n",
      "RMSE (testset)    0.9530  0.9526  0.9445  0.9534  0.9578  0.9523  0.0043  \n",
      "Fit time          0.42    0.70    0.60    0.46    0.44    0.52    0.11    \n",
      "Test time         4.01    3.52    3.89    3.68    3.55    3.73    0.19    \n",
      "Evaluating RMSE of algorithm KNNWithMeans on 5 split(s).\n",
      "\n",
      "                  Fold 1  Fold 2  Fold 3  Fold 4  Fold 5  Mean    Std     \n",
      "RMSE (testset)    0.9307  0.9429  0.9396  0.9460  0.9253  0.9369  0.0077  \n",
      "Fit time          1.53    1.29    1.31    1.60    1.31    1.41    0.13    \n",
      "Test time         3.38    3.40    4.24    3.88    3.42    3.66    0.34    \n",
      "Лучший алгоритм и значение RMSE для него:  ('SVD', 0.9357974200188204)\n"
     ]
    }
   ],
   "source": [
    "RMSE = {}\n",
    "for [name, algo] in algos.items():\n",
    "    crv = cross_validate(algo, data, measures=['RMSE'], cv=5, verbose=True)\n",
    "    RMSE[name] = crv['test_rmse'].mean()\n",
    "selected_algo = min(RMSE.items(), key=lambda unit: unit[1])\n",
    "print(\"Лучший алгоритм и значение RMSE для него: \", selected_algo)\n",
    "\n",
    "trainset, testset = train_test_split(data, test_size=.25)\n",
    "selected_algo_obj = algos[selected_algo[0]]\n",
    "selected_algo_obj.fit(trainset)\n",
    "predictions = selected_algo_obj.test(testset)"
   ]
  },
  {
   "cell_type": "markdown",
   "metadata": {},
   "source": [
    "### Calculate precision@k and recall@k"
   ]
  },
  {
   "cell_type": "code",
   "execution_count": 5,
   "metadata": {},
   "outputs": [
    {
     "name": "stdout",
     "output_type": "stream",
     "text": [
      "0.738034641215977\n",
      "0.36471649451618143\n"
     ]
    }
   ],
   "source": [
    "    def precision_recall_at_k(predictions, k=5, threshold=3.52):\n",
    "        user_est_true = defaultdict(list)\n",
    "        for uid, _, true_r, est, _ in predictions:\n",
    "            user_est_true[uid].append((est, true_r))\n",
    "\n",
    "        precisions = dict()\n",
    "        recalls = dict()\n",
    "        for uid, user_ratings in user_est_true.items():\n",
    "            user_ratings.sort(key=lambda x: x[0], reverse=True)\n",
    "\n",
    "            n_rel = sum((true_r >= threshold) for (_, true_r) in user_ratings)\n",
    "\n",
    "            n_rec_k = sum((est >= threshold) for (est, _) in user_ratings[:k])\n",
    "\n",
    "            n_rel_and_rec_k = sum(((true_r >= threshold) and (est >= threshold))\n",
    "                                  for (est, true_r) in user_ratings[:k])\n",
    "\n",
    "            precisions[uid] = n_rel_and_rec_k / n_rec_k if n_rec_k != 0 else 0\n",
    "\n",
    "            recalls[uid] = n_rel_and_rec_k / n_rel if n_rel != 0 else 0\n",
    "\n",
    "        return precisions, recalls\n",
    "\n",
    "precisions, recalls = precision_recall_at_k(predictions, k=5, threshold=3.52)\n",
    "\n",
    "print(sum(prec for prec in precisions.values()) / len(precisions))\n",
    "print(sum(rec for rec in recalls.values()) / len(recalls))"
   ]
  },
  {
   "cell_type": "markdown",
   "metadata": {},
   "source": [
    "### Predict"
   ]
  },
  {
   "cell_type": "code",
   "execution_count": 6,
   "metadata": {},
   "outputs": [],
   "source": [
    "variant = '25'\n",
    "n = 5\n",
    "trainset = data.build_full_trainset()\n",
    "selected_algo_obj.fit(trainset)\n",
    "testset = trainset.build_anti_testset()\n",
    "predictions = selected_algo_obj.test(testset)\n",
    "predictions_for_variant = list(filter(lambda unit: unit.uid == variant, predictions))  \n",
    "best_predictions = sorted(predictions_for_variant, key=lambda unit: unit.est, reverse=True)[:n]"
   ]
  },
  {
   "cell_type": "code",
   "execution_count": 7,
   "metadata": {},
   "outputs": [
    {
     "name": "stdout",
     "output_type": "stream",
     "text": [
      "User 25\n",
      "318 ('Everyone Says I Love You (1996)', '06-Dec-1996') 4.718652790494702\n",
      "64 (\"What's Eating Gilbert Grape (1993)\", '01-Jan-1993') 4.658420096828414\n",
      "178 ('Clockwork Orange, A (1971)', '01-Jan-1971') 4.606022918632068\n",
      "963 ('Month by the Lake, A (1995)', '01-Jan-1995') 4.577345744625782\n",
      "513 ('Annie Hall (1977)', '01-Jan-1977') 4.56513883270906\n"
     ]
    }
   ],
   "source": [
    "import os\n",
    "file_path = os.path.expanduser('~/.surprise_data/ml-100k/ml-100k/u.item')\n",
    "films = pd.read_csv(file_path, sep=\"|\", encoding='latin-1')\n",
    "info = {}\n",
    "for id in list(map(lambda x: x.iid, best_predictions)):\n",
    "       row = films.iloc[int(id) - 1] \n",
    "       info[id] = (row[1], row[2])\n",
    "        \n",
    "print(\"User 25\")\n",
    "for prediction in best_predictions:\n",
    "    print(\"{} {} {}\".format(prediction.iid, info[prediction.iid], prediction.est))"
   ]
  }
 ],
 "metadata": {
  "kernelspec": {
   "display_name": "Python 3",
   "language": "python",
   "name": "python3"
  },
  "language_info": {
   "codemirror_mode": {
    "name": "ipython",
    "version": 3
   },
   "file_extension": ".py",
   "mimetype": "text/x-python",
   "name": "python",
   "nbconvert_exporter": "python",
   "pygments_lexer": "ipython3",
   "version": "3.8.5"
  }
 },
 "nbformat": 4,
 "nbformat_minor": 2
}