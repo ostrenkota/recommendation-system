{
 "cells": [
  {
   "cell_type": "markdown",
   "metadata": {},
   "source": [
    "# Surprise homework"
   ]
  },
  {
   "cell_type": "code",
   "execution_count": 1,
   "metadata": {},
   "outputs": [],
   "source": [
    "import io\n",
    "from collections import defaultdict\n",
    "import pandas as pd\n",
    "from surprise import Dataset\n",
    "from surprise import SVD\n",
    "from surprise import NormalPredictor\n",
    "from surprise import KNNBasic\n",
    "from surprise.model_selection import cross_validate\n",
    "from surprise.model_selection import KFold\n",
    "from surprise.model_selection import train_test_split\n",
    "from operator import itemgetter\n",
    "import pandas as pd"
   ]
  },
  {
   "cell_type": "markdown",
   "metadata": {},
   "source": [
    "### Load data"
   ]
  },
  {
   "cell_type": "code",
   "execution_count": 2,
   "metadata": {},
   "outputs": [],
   "source": [
    "data = Dataset.load_builtin('ml-100k')"
   ]
  },
  {
   "cell_type": "markdown",
   "metadata": {},
   "source": [
    "### Define algorithms"
   ]
  },
  {
   "cell_type": "code",
   "execution_count": 3,
   "metadata": {},
   "outputs": [],
   "source": [
    "algos = {\n",
    "    \"SVD\": SVD(),\n",
    "    \"Base\": NormalPredictor(),\n",
    "    \"KNN_cos\": KNNBasic(30, sim_options={'name': 'cosine'}, verbose=False),\n",
    "    \"KNN_msd\": KNNBasic(30, sim_options={'name': 'msd'}, verbose=False),\n",
    "    \"KNN_pirs\": KNNBasic(30, sim_options={'name': 'pearson_baseline'}, verbose=False)\n",
    "}"
   ]
  },
  {
   "cell_type": "markdown",
   "metadata": {},
   "source": [
    "### Select algorithm"
   ]
  },
  {
   "cell_type": "code",
   "execution_count": 4,
   "metadata": {},
   "outputs": [
    {
     "name": "stdout",
     "output_type": "stream",
     "text": [
      "Evaluating RMSE of algorithm SVD on 5 split(s).\n",
      "\n",
      "                  Fold 1  Fold 2  Fold 3  Fold 4  Fold 5  Mean    Std     \n",
      "RMSE (testset)    0.9363  0.9335  0.9370  0.9373  0.9358  0.9360  0.0013  \n",
      "Fit time          5.80    5.85    5.40    5.24    5.28    5.52    0.26    \n",
      "Test time         0.49    0.30    0.21    0.20    0.21    0.28    0.11    \n",
      "Evaluating RMSE of algorithm NormalPredictor on 5 split(s).\n",
      "\n",
      "                  Fold 1  Fold 2  Fold 3  Fold 4  Fold 5  Mean    Std     \n",
      "RMSE (testset)    1.5209  1.5125  1.5176  1.5255  1.5245  1.5202  0.0048  \n",
      "Fit time          0.13    0.15    0.15    0.16    0.15    0.15    0.01    \n",
      "Test time         0.17    0.21    0.21    0.15    0.16    0.18    0.02    \n",
      "Evaluating RMSE of algorithm KNNBasic on 5 split(s).\n",
      "\n",
      "                  Fold 1  Fold 2  Fold 3  Fold 4  Fold 5  Mean    Std     \n",
      "RMSE (testset)    1.0186  1.0109  1.0206  1.0126  1.0258  1.0177  0.0055  \n",
      "Fit time          1.13    1.20    1.34    1.14    1.14    1.19    0.08    \n",
      "Test time         3.36    3.46    3.68    3.50    3.51    3.50    0.10    \n",
      "Evaluating RMSE of algorithm KNNBasic on 5 split(s).\n",
      "\n",
      "                  Fold 1  Fold 2  Fold 3  Fold 4  Fold 5  Mean    Std     \n",
      "RMSE (testset)    0.9838  0.9839  0.9712  0.9807  0.9651  0.9769  0.0075  \n",
      "Fit time          0.44    0.42    0.42    0.43    0.44    0.43    0.01    \n",
      "Test time         3.37    3.48    3.44    3.43    3.52    3.45    0.05    \n",
      "Evaluating RMSE of algorithm KNNBasic on 5 split(s).\n",
      "\n",
      "                  Fold 1  Fold 2  Fold 3  Fold 4  Fold 5  Mean    Std     \n",
      "RMSE (testset)    0.9986  0.9967  0.9997  1.0101  0.9969  1.0004  0.0050  \n",
      "Fit time          1.42    1.84    1.42    1.74    1.64    1.61    0.17    \n",
      "Test time         4.42    3.46    3.35    3.69    3.16    3.61    0.44    \n",
      "Лучший алгоритм и значение RMSE для него:  ('SVD', 0.9359733990415717)\n"
     ]
    }
   ],
   "source": [
    "RMSE = {}\n",
    "for [name, algo] in algos.items():\n",
    "    crv = cross_validate(algo, data, measures=['RMSE'], cv=5, verbose=True)\n",
    "    RMSE[name] = crv['test_rmse'].mean()\n",
    "selected_algo = min(RMSE.items(), key=lambda unit: unit[1])\n",
    "print(\"Лучший алгоритм и значение RMSE для него: \", selected_algo)\n",
    "\n",
    "trainset, testset = train_test_split(data, test_size=.25)\n",
    "selected_algo_obj = algos[selected_algo[0]]\n",
    "selected_algo_obj.fit(trainset)\n",
    "predictions = selected_algo_obj.test(testset)"
   ]
  },
  {
   "cell_type": "markdown",
   "metadata": {},
   "source": [
    "### Calculate precision@k and recall@k"
   ]
  },
  {
   "cell_type": "code",
   "execution_count": 5,
   "metadata": {},
   "outputs": [
    {
     "name": "stdout",
     "output_type": "stream",
     "text": [
      "0.738034641215977\n",
      "0.36471649451618143\n"
     ]
    }
   ],
   "source": [
    "    def precision_recall_at_k(predictions, k=5, threshold=3.52):\n",
    "        user_est_true = defaultdict(list)\n",
    "        for uid, _, true_r, est, _ in predictions:\n",
    "            user_est_true[uid].append((est, true_r))\n",
    "\n",
    "        precisions = dict()\n",
    "        recalls = dict()\n",
    "        for uid, user_ratings in user_est_true.items():\n",
    "            user_ratings.sort(key=lambda x: x[0], reverse=True)\n",
    "\n",
    "            n_rel = sum((true_r >= threshold) for (_, true_r) in user_ratings)\n",
    "\n",
    "            n_rec_k = sum((est >= threshold) for (est, _) in user_ratings[:k])\n",
    "\n",
    "            n_rel_and_rec_k = sum(((true_r >= threshold) and (est >= threshold))\n",
    "                                  for (est, true_r) in user_ratings[:k])\n",
    "\n",
    "            precisions[uid] = n_rel_and_rec_k / n_rec_k if n_rec_k != 0 else 0\n",
    "\n",
    "            recalls[uid] = n_rel_and_rec_k / n_rel if n_rel != 0 else 0\n",
    "\n",
    "        return precisions, recalls\n",
    "\n",
    "precisions, recalls = precision_recall_at_k(predictions, k=5, threshold=3.52)\n",
    "\n",
    "print(sum(prec for prec in precisions.values()) / len(precisions))\n",
    "print(sum(rec for rec in recalls.values()) / len(recalls))"
   ]
  },
  {
   "cell_type": "markdown",
   "metadata": {},
   "source": [
    "### Predict"
   ]
  },
  {
   "cell_type": "code",
   "execution_count": 6,
   "metadata": {},
   "outputs": [],
   "source": [
    "variant = '25'\n",
    "n = 5\n",
    "trainset = data.build_full_trainset()\n",
    "selected_algo_obj.fit(trainset)\n",
    "testset = trainset.build_anti_testset()\n",
    "predictions = selected_algo_obj.test(testset)\n",
    "predictions_for_variant = list(filter(lambda unit: unit.uid == variant, predictions))  \n",
    "best_predictions = sorted(predictions_for_variant, key=lambda unit: unit.est, reverse=True)[:n]"
   ]
  },
  {
   "cell_type": "code",
   "execution_count": 7,
   "metadata": {},
   "outputs": [
    {
     "name": "stdout",
     "output_type": "stream",
     "text": [
      "User 25\n",
      "318 ('Everyone Says I Love You (1996)', '06-Dec-1996') 4.718652790494702\n",
      "64 (\"What's Eating Gilbert Grape (1993)\", '01-Jan-1993') 4.658420096828414\n",
      "178 ('Clockwork Orange, A (1971)', '01-Jan-1971') 4.606022918632068\n",
      "963 ('Month by the Lake, A (1995)', '01-Jan-1995') 4.577345744625782\n",
      "513 ('Annie Hall (1977)', '01-Jan-1977') 4.56513883270906\n"
     ]
    }
   ],
   "source": [
    "import os\n",
    "file_path = os.path.expanduser('~/.surprise_data/ml-100k/ml-100k/u.item')\n",
    "films = pd.read_csv(file_path, sep=\"|\", encoding='latin-1')\n",
    "info = {}\n",
    "for id in list(map(lambda x: x.iid, best_predictions)):\n",
    "       row = films.iloc[int(id) - 1] \n",
    "       info[id] = (row[1], row[2])\n",
    "        \n",
    "print(\"User 25\")\n",
    "for prediction in best_predictions:\n",
    "    print(\"{} {} {}\".format(prediction.iid, info[prediction.iid], prediction.est))"
   ]
  }
 ],
 "metadata": {
  "kernelspec": {
   "display_name": "Python 3",
   "language": "python",
   "name": "python3"
  },
  "language_info": {
   "codemirror_mode": {
    "name": "ipython",
    "version": 3
   },
   "file_extension": ".py",
   "mimetype": "text/x-python",
   "name": "python",
   "nbconvert_exporter": "python",
   "pygments_lexer": "ipython3",
   "version": "3.8.5"
  }
 },
 "nbformat": 4,
 "nbformat_minor": 2
}
